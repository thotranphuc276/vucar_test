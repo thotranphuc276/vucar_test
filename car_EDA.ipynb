{
 "cells": [
  {
   "cell_type": "code",
   "execution_count": 19,
   "metadata": {},
   "outputs": [],
   "source": [
    "import pandas as pd\n",
    "import numpy as np\n",
    "import matplotlib.pyplot as plt\n",
    "import seaborn as sns"
   ]
  },
  {
   "cell_type": "code",
   "execution_count": 2,
   "metadata": {},
   "outputs": [
    {
     "data": {
      "text/html": [
       "<div>\n",
       "<style scoped>\n",
       "    .dataframe tbody tr th:only-of-type {\n",
       "        vertical-align: middle;\n",
       "    }\n",
       "\n",
       "    .dataframe tbody tr th {\n",
       "        vertical-align: top;\n",
       "    }\n",
       "\n",
       "    .dataframe thead th {\n",
       "        text-align: right;\n",
       "    }\n",
       "</style>\n",
       "<table border=\"1\" class=\"dataframe\">\n",
       "  <thead>\n",
       "    <tr style=\"text-align: right;\">\n",
       "      <th></th>\n",
       "      <th>id</th>\n",
       "      <th>list_id</th>\n",
       "      <th>list_time</th>\n",
       "      <th>manufacture_date</th>\n",
       "      <th>brand</th>\n",
       "      <th>model</th>\n",
       "      <th>origin</th>\n",
       "      <th>type</th>\n",
       "      <th>seats</th>\n",
       "      <th>gearbox</th>\n",
       "      <th>fuel</th>\n",
       "      <th>color</th>\n",
       "      <th>mileage_v2</th>\n",
       "      <th>price</th>\n",
       "      <th>condition</th>\n",
       "    </tr>\n",
       "  </thead>\n",
       "  <tbody>\n",
       "    <tr>\n",
       "      <th>count</th>\n",
       "      <td>3.176360e+05</td>\n",
       "      <td>3.176360e+05</td>\n",
       "      <td>3.176360e+05</td>\n",
       "      <td>317636.00000</td>\n",
       "      <td>317586</td>\n",
       "      <td>317586</td>\n",
       "      <td>234317</td>\n",
       "      <td>272934</td>\n",
       "      <td>283792.000000</td>\n",
       "      <td>316243</td>\n",
       "      <td>317542</td>\n",
       "      <td>221540</td>\n",
       "      <td>317636.000000</td>\n",
       "      <td>3.175240e+05</td>\n",
       "      <td>317636</td>\n",
       "    </tr>\n",
       "    <tr>\n",
       "      <th>unique</th>\n",
       "      <td>NaN</td>\n",
       "      <td>NaN</td>\n",
       "      <td>NaN</td>\n",
       "      <td>NaN</td>\n",
       "      <td>67</td>\n",
       "      <td>521</td>\n",
       "      <td>10</td>\n",
       "      <td>9</td>\n",
       "      <td>NaN</td>\n",
       "      <td>4</td>\n",
       "      <td>4</td>\n",
       "      <td>12</td>\n",
       "      <td>NaN</td>\n",
       "      <td>NaN</td>\n",
       "      <td>2</td>\n",
       "    </tr>\n",
       "    <tr>\n",
       "      <th>top</th>\n",
       "      <td>NaN</td>\n",
       "      <td>NaN</td>\n",
       "      <td>NaN</td>\n",
       "      <td>NaN</td>\n",
       "      <td>Toyota</td>\n",
       "      <td>Ranger</td>\n",
       "      <td>Việt Nam</td>\n",
       "      <td>Sedan</td>\n",
       "      <td>NaN</td>\n",
       "      <td>AT</td>\n",
       "      <td>petrol</td>\n",
       "      <td>white</td>\n",
       "      <td>NaN</td>\n",
       "      <td>NaN</td>\n",
       "      <td>used</td>\n",
       "    </tr>\n",
       "    <tr>\n",
       "      <th>freq</th>\n",
       "      <td>NaN</td>\n",
       "      <td>NaN</td>\n",
       "      <td>NaN</td>\n",
       "      <td>NaN</td>\n",
       "      <td>65455</td>\n",
       "      <td>15719</td>\n",
       "      <td>116368</td>\n",
       "      <td>90709</td>\n",
       "      <td>NaN</td>\n",
       "      <td>239222</td>\n",
       "      <td>259244</td>\n",
       "      <td>72035</td>\n",
       "      <td>NaN</td>\n",
       "      <td>NaN</td>\n",
       "      <td>270089</td>\n",
       "    </tr>\n",
       "    <tr>\n",
       "      <th>mean</th>\n",
       "      <td>1.489581e+08</td>\n",
       "      <td>1.090510e+08</td>\n",
       "      <td>1.695835e+12</td>\n",
       "      <td>2016.53675</td>\n",
       "      <td>NaN</td>\n",
       "      <td>NaN</td>\n",
       "      <td>NaN</td>\n",
       "      <td>NaN</td>\n",
       "      <td>5.712529</td>\n",
       "      <td>NaN</td>\n",
       "      <td>NaN</td>\n",
       "      <td>NaN</td>\n",
       "      <td>61327.917528</td>\n",
       "      <td>6.265541e+08</td>\n",
       "      <td>NaN</td>\n",
       "    </tr>\n",
       "    <tr>\n",
       "      <th>std</th>\n",
       "      <td>3.484644e+06</td>\n",
       "      <td>2.878699e+06</td>\n",
       "      <td>1.131473e+09</td>\n",
       "      <td>26.07318</td>\n",
       "      <td>NaN</td>\n",
       "      <td>NaN</td>\n",
       "      <td>NaN</td>\n",
       "      <td>NaN</td>\n",
       "      <td>1.780515</td>\n",
       "      <td>NaN</td>\n",
       "      <td>NaN</td>\n",
       "      <td>NaN</td>\n",
       "      <td>92679.788593</td>\n",
       "      <td>7.284020e+08</td>\n",
       "      <td>NaN</td>\n",
       "    </tr>\n",
       "    <tr>\n",
       "      <th>min</th>\n",
       "      <td>4.588559e+07</td>\n",
       "      <td>2.989052e+07</td>\n",
       "      <td>1.691400e+12</td>\n",
       "      <td>-1.00000</td>\n",
       "      <td>NaN</td>\n",
       "      <td>NaN</td>\n",
       "      <td>NaN</td>\n",
       "      <td>NaN</td>\n",
       "      <td>-1.000000</td>\n",
       "      <td>NaN</td>\n",
       "      <td>NaN</td>\n",
       "      <td>NaN</td>\n",
       "      <td>0.000000</td>\n",
       "      <td>1.310720e+06</td>\n",
       "      <td>NaN</td>\n",
       "    </tr>\n",
       "    <tr>\n",
       "      <th>25%</th>\n",
       "      <td>1.490832e+08</td>\n",
       "      <td>1.091366e+08</td>\n",
       "      <td>1.695113e+12</td>\n",
       "      <td>2014.00000</td>\n",
       "      <td>NaN</td>\n",
       "      <td>NaN</td>\n",
       "      <td>NaN</td>\n",
       "      <td>NaN</td>\n",
       "      <td>5.000000</td>\n",
       "      <td>NaN</td>\n",
       "      <td>NaN</td>\n",
       "      <td>NaN</td>\n",
       "      <td>9000.000000</td>\n",
       "      <td>3.150000e+08</td>\n",
       "      <td>NaN</td>\n",
       "    </tr>\n",
       "    <tr>\n",
       "      <th>50%</th>\n",
       "      <td>1.499784e+08</td>\n",
       "      <td>1.099032e+08</td>\n",
       "      <td>1.695873e+12</td>\n",
       "      <td>2019.00000</td>\n",
       "      <td>NaN</td>\n",
       "      <td>NaN</td>\n",
       "      <td>NaN</td>\n",
       "      <td>NaN</td>\n",
       "      <td>5.000000</td>\n",
       "      <td>NaN</td>\n",
       "      <td>NaN</td>\n",
       "      <td>NaN</td>\n",
       "      <td>42000.000000</td>\n",
       "      <td>4.900000e+08</td>\n",
       "      <td>NaN</td>\n",
       "    </tr>\n",
       "    <tr>\n",
       "      <th>75%</th>\n",
       "      <td>1.504550e+08</td>\n",
       "      <td>1.103140e+08</td>\n",
       "      <td>1.696577e+12</td>\n",
       "      <td>2022.00000</td>\n",
       "      <td>NaN</td>\n",
       "      <td>NaN</td>\n",
       "      <td>NaN</td>\n",
       "      <td>NaN</td>\n",
       "      <td>7.000000</td>\n",
       "      <td>NaN</td>\n",
       "      <td>NaN</td>\n",
       "      <td>NaN</td>\n",
       "      <td>82000.000000</td>\n",
       "      <td>7.150000e+08</td>\n",
       "      <td>NaN</td>\n",
       "    </tr>\n",
       "    <tr>\n",
       "      <th>max</th>\n",
       "      <td>1.513698e+08</td>\n",
       "      <td>1.110970e+08</td>\n",
       "      <td>1.698210e+12</td>\n",
       "      <td>2023.00000</td>\n",
       "      <td>NaN</td>\n",
       "      <td>NaN</td>\n",
       "      <td>NaN</td>\n",
       "      <td>NaN</td>\n",
       "      <td>16.000000</td>\n",
       "      <td>NaN</td>\n",
       "      <td>NaN</td>\n",
       "      <td>NaN</td>\n",
       "      <td>999999.000000</td>\n",
       "      <td>3.750000e+10</td>\n",
       "      <td>NaN</td>\n",
       "    </tr>\n",
       "  </tbody>\n",
       "</table>\n",
       "</div>"
      ],
      "text/plain": [
       "                  id       list_id     list_time  manufacture_date   brand  \\\n",
       "count   3.176360e+05  3.176360e+05  3.176360e+05      317636.00000  317586   \n",
       "unique           NaN           NaN           NaN               NaN      67   \n",
       "top              NaN           NaN           NaN               NaN  Toyota   \n",
       "freq             NaN           NaN           NaN               NaN   65455   \n",
       "mean    1.489581e+08  1.090510e+08  1.695835e+12        2016.53675     NaN   \n",
       "std     3.484644e+06  2.878699e+06  1.131473e+09          26.07318     NaN   \n",
       "min     4.588559e+07  2.989052e+07  1.691400e+12          -1.00000     NaN   \n",
       "25%     1.490832e+08  1.091366e+08  1.695113e+12        2014.00000     NaN   \n",
       "50%     1.499784e+08  1.099032e+08  1.695873e+12        2019.00000     NaN   \n",
       "75%     1.504550e+08  1.103140e+08  1.696577e+12        2022.00000     NaN   \n",
       "max     1.513698e+08  1.110970e+08  1.698210e+12        2023.00000     NaN   \n",
       "\n",
       "         model    origin    type          seats gearbox    fuel   color  \\\n",
       "count   317586    234317  272934  283792.000000  316243  317542  221540   \n",
       "unique     521        10       9            NaN       4       4      12   \n",
       "top     Ranger  Việt Nam   Sedan            NaN      AT  petrol   white   \n",
       "freq     15719    116368   90709            NaN  239222  259244   72035   \n",
       "mean       NaN       NaN     NaN       5.712529     NaN     NaN     NaN   \n",
       "std        NaN       NaN     NaN       1.780515     NaN     NaN     NaN   \n",
       "min        NaN       NaN     NaN      -1.000000     NaN     NaN     NaN   \n",
       "25%        NaN       NaN     NaN       5.000000     NaN     NaN     NaN   \n",
       "50%        NaN       NaN     NaN       5.000000     NaN     NaN     NaN   \n",
       "75%        NaN       NaN     NaN       7.000000     NaN     NaN     NaN   \n",
       "max        NaN       NaN     NaN      16.000000     NaN     NaN     NaN   \n",
       "\n",
       "           mileage_v2         price condition  \n",
       "count   317636.000000  3.175240e+05    317636  \n",
       "unique            NaN           NaN         2  \n",
       "top               NaN           NaN      used  \n",
       "freq              NaN           NaN    270089  \n",
       "mean     61327.917528  6.265541e+08       NaN  \n",
       "std      92679.788593  7.284020e+08       NaN  \n",
       "min          0.000000  1.310720e+06       NaN  \n",
       "25%       9000.000000  3.150000e+08       NaN  \n",
       "50%      42000.000000  4.900000e+08       NaN  \n",
       "75%      82000.000000  7.150000e+08       NaN  \n",
       "max     999999.000000  3.750000e+10       NaN  "
      ]
     },
     "execution_count": 2,
     "metadata": {},
     "output_type": "execute_result"
    }
   ],
   "source": [
    "car_data = pd.read_csv('car.csv')\n",
    "car_data.describe(include='all')"
   ]
  },
  {
   "cell_type": "code",
   "execution_count": 8,
   "metadata": {},
   "outputs": [
    {
     "name": "stdout",
     "output_type": "stream",
     "text": [
      "<class 'pandas.core.frame.DataFrame'>\n",
      "RangeIndex: 317636 entries, 0 to 317635\n",
      "Data columns (total 15 columns):\n",
      " #   Column            Non-Null Count   Dtype  \n",
      "---  ------            --------------   -----  \n",
      " 0   id                317636 non-null  int64  \n",
      " 1   list_id           317636 non-null  int64  \n",
      " 2   list_time         317636 non-null  int64  \n",
      " 3   manufacture_date  317636 non-null  int64  \n",
      " 4   brand             317586 non-null  object \n",
      " 5   model             317586 non-null  object \n",
      " 6   origin            234317 non-null  object \n",
      " 7   type              272934 non-null  object \n",
      " 8   seats             283792 non-null  float64\n",
      " 9   gearbox           316243 non-null  object \n",
      " 10  fuel              317542 non-null  object \n",
      " 11  color             221540 non-null  object \n",
      " 12  mileage_v2        317636 non-null  int64  \n",
      " 13  price             317524 non-null  float64\n",
      " 14  condition         317636 non-null  object \n",
      "dtypes: float64(2), int64(5), object(8)\n",
      "memory usage: 36.4+ MB\n"
     ]
    }
   ],
   "source": [
    "car_data.info()"
   ]
  },
  {
   "cell_type": "code",
   "execution_count": 3,
   "metadata": {},
   "outputs": [
    {
     "data": {
      "text/html": [
       "<div>\n",
       "<style scoped>\n",
       "    .dataframe tbody tr th:only-of-type {\n",
       "        vertical-align: middle;\n",
       "    }\n",
       "\n",
       "    .dataframe tbody tr th {\n",
       "        vertical-align: top;\n",
       "    }\n",
       "\n",
       "    .dataframe thead th {\n",
       "        text-align: right;\n",
       "    }\n",
       "</style>\n",
       "<table border=\"1\" class=\"dataframe\">\n",
       "  <thead>\n",
       "    <tr style=\"text-align: right;\">\n",
       "      <th></th>\n",
       "      <th>id</th>\n",
       "      <th>list_id</th>\n",
       "      <th>list_time</th>\n",
       "      <th>manufacture_date</th>\n",
       "      <th>brand</th>\n",
       "      <th>model</th>\n",
       "      <th>origin</th>\n",
       "      <th>type</th>\n",
       "      <th>seats</th>\n",
       "      <th>gearbox</th>\n",
       "      <th>fuel</th>\n",
       "      <th>color</th>\n",
       "      <th>mileage_v2</th>\n",
       "      <th>price</th>\n",
       "      <th>condition</th>\n",
       "    </tr>\n",
       "  </thead>\n",
       "  <tbody>\n",
       "    <tr>\n",
       "      <th>0</th>\n",
       "      <td>148468232</td>\n",
       "      <td>108616925</td>\n",
       "      <td>1693378633111</td>\n",
       "      <td>1980</td>\n",
       "      <td>Jeep</td>\n",
       "      <td>A2</td>\n",
       "      <td>Mỹ</td>\n",
       "      <td>SUV / Cross over</td>\n",
       "      <td>4.0</td>\n",
       "      <td>MT</td>\n",
       "      <td>petrol</td>\n",
       "      <td>green</td>\n",
       "      <td>40000</td>\n",
       "      <td>380000000.0</td>\n",
       "      <td>used</td>\n",
       "    </tr>\n",
       "    <tr>\n",
       "      <th>1</th>\n",
       "      <td>149864917</td>\n",
       "      <td>109805135</td>\n",
       "      <td>1694308247000</td>\n",
       "      <td>2021</td>\n",
       "      <td>Honda</td>\n",
       "      <td>City</td>\n",
       "      <td>Nhật Bản</td>\n",
       "      <td>Sedan</td>\n",
       "      <td>5.0</td>\n",
       "      <td>AT</td>\n",
       "      <td>petrol</td>\n",
       "      <td>white</td>\n",
       "      <td>23000</td>\n",
       "      <td>455000000.0</td>\n",
       "      <td>used</td>\n",
       "    </tr>\n",
       "    <tr>\n",
       "      <th>2</th>\n",
       "      <td>149580046</td>\n",
       "      <td>109560282</td>\n",
       "      <td>1693462201000</td>\n",
       "      <td>2016</td>\n",
       "      <td>Kia</td>\n",
       "      <td>Rio</td>\n",
       "      <td>Hàn Quốc</td>\n",
       "      <td>NaN</td>\n",
       "      <td>NaN</td>\n",
       "      <td>AT</td>\n",
       "      <td>petrol</td>\n",
       "      <td>NaN</td>\n",
       "      <td>78545</td>\n",
       "      <td>295000000.0</td>\n",
       "      <td>used</td>\n",
       "    </tr>\n",
       "    <tr>\n",
       "      <th>3</th>\n",
       "      <td>148601679</td>\n",
       "      <td>108727914</td>\n",
       "      <td>1693493126176</td>\n",
       "      <td>2020</td>\n",
       "      <td>Toyota</td>\n",
       "      <td>Vios</td>\n",
       "      <td>Việt Nam</td>\n",
       "      <td>Sedan</td>\n",
       "      <td>5.0</td>\n",
       "      <td>MT</td>\n",
       "      <td>petrol</td>\n",
       "      <td>white</td>\n",
       "      <td>99999</td>\n",
       "      <td>368000000.0</td>\n",
       "      <td>used</td>\n",
       "    </tr>\n",
       "    <tr>\n",
       "      <th>4</th>\n",
       "      <td>149530234</td>\n",
       "      <td>109517456</td>\n",
       "      <td>1693313503000</td>\n",
       "      <td>2001</td>\n",
       "      <td>Fiat</td>\n",
       "      <td>Siena</td>\n",
       "      <td>NaN</td>\n",
       "      <td>NaN</td>\n",
       "      <td>NaN</td>\n",
       "      <td>MT</td>\n",
       "      <td>petrol</td>\n",
       "      <td>white</td>\n",
       "      <td>200000</td>\n",
       "      <td>73000000.0</td>\n",
       "      <td>used</td>\n",
       "    </tr>\n",
       "  </tbody>\n",
       "</table>\n",
       "</div>"
      ],
      "text/plain": [
       "          id    list_id      list_time  manufacture_date   brand  model  \\\n",
       "0  148468232  108616925  1693378633111              1980    Jeep     A2   \n",
       "1  149864917  109805135  1694308247000              2021   Honda   City   \n",
       "2  149580046  109560282  1693462201000              2016     Kia    Rio   \n",
       "3  148601679  108727914  1693493126176              2020  Toyota   Vios   \n",
       "4  149530234  109517456  1693313503000              2001    Fiat  Siena   \n",
       "\n",
       "     origin              type  seats gearbox    fuel  color  mileage_v2  \\\n",
       "0        Mỹ  SUV / Cross over    4.0      MT  petrol  green       40000   \n",
       "1  Nhật Bản             Sedan    5.0      AT  petrol  white       23000   \n",
       "2  Hàn Quốc               NaN    NaN      AT  petrol    NaN       78545   \n",
       "3  Việt Nam             Sedan    5.0      MT  petrol  white       99999   \n",
       "4       NaN               NaN    NaN      MT  petrol  white      200000   \n",
       "\n",
       "         price condition  \n",
       "0  380000000.0      used  \n",
       "1  455000000.0      used  \n",
       "2  295000000.0      used  \n",
       "3  368000000.0      used  \n",
       "4   73000000.0      used  "
      ]
     },
     "execution_count": 3,
     "metadata": {},
     "output_type": "execute_result"
    }
   ],
   "source": [
    "car_data.head()"
   ]
  },
  {
   "cell_type": "code",
   "execution_count": 7,
   "metadata": {},
   "outputs": [
    {
     "data": {
      "text/plain": [
       "id                      0\n",
       "list_id                 0\n",
       "list_time               0\n",
       "manufacture_date        0\n",
       "brand                  50\n",
       "model                  50\n",
       "origin              83319\n",
       "type                44702\n",
       "seats               33844\n",
       "gearbox              1393\n",
       "fuel                   94\n",
       "color               96096\n",
       "mileage_v2              0\n",
       "price                 112\n",
       "condition               0\n",
       "dtype: int64"
      ]
     },
     "execution_count": 7,
     "metadata": {},
     "output_type": "execute_result"
    }
   ],
   "source": [
    "car_data.isna().sum()"
   ]
  },
  {
   "cell_type": "code",
   "execution_count": 46,
   "metadata": {},
   "outputs": [
    {
     "data": {
      "text/plain": [
       "AT         239222\n",
       "MT          74893\n",
       "AMT          2056\n",
       "unknown        72\n",
       "Name: gearbox, dtype: int64"
      ]
     },
     "execution_count": 46,
     "metadata": {},
     "output_type": "execute_result"
    }
   ],
   "source": [
    "car_data['gearbox'].value_counts()"
   ]
  },
  {
   "cell_type": "code",
   "execution_count": 5,
   "metadata": {},
   "outputs": [
    {
     "data": {
      "text/html": [
       "<div>\n",
       "<style scoped>\n",
       "    .dataframe tbody tr th:only-of-type {\n",
       "        vertical-align: middle;\n",
       "    }\n",
       "\n",
       "    .dataframe tbody tr th {\n",
       "        vertical-align: top;\n",
       "    }\n",
       "\n",
       "    .dataframe thead th {\n",
       "        text-align: right;\n",
       "    }\n",
       "</style>\n",
       "<table border=\"1\" class=\"dataframe\">\n",
       "  <thead>\n",
       "    <tr style=\"text-align: right;\">\n",
       "      <th></th>\n",
       "      <th>brand</th>\n",
       "      <th>model</th>\n",
       "      <th>type</th>\n",
       "      <th>seats</th>\n",
       "    </tr>\n",
       "  </thead>\n",
       "  <tbody>\n",
       "    <tr>\n",
       "      <th>0</th>\n",
       "      <td>Jeep</td>\n",
       "      <td>A2</td>\n",
       "      <td>SUV / Cross over</td>\n",
       "      <td>4.0</td>\n",
       "    </tr>\n",
       "    <tr>\n",
       "      <th>1</th>\n",
       "      <td>Honda</td>\n",
       "      <td>City</td>\n",
       "      <td>Sedan</td>\n",
       "      <td>5.0</td>\n",
       "    </tr>\n",
       "    <tr>\n",
       "      <th>2</th>\n",
       "      <td>Kia</td>\n",
       "      <td>Rio</td>\n",
       "      <td>NaN</td>\n",
       "      <td>NaN</td>\n",
       "    </tr>\n",
       "    <tr>\n",
       "      <th>3</th>\n",
       "      <td>Toyota</td>\n",
       "      <td>Vios</td>\n",
       "      <td>Sedan</td>\n",
       "      <td>5.0</td>\n",
       "    </tr>\n",
       "    <tr>\n",
       "      <th>4</th>\n",
       "      <td>Fiat</td>\n",
       "      <td>Siena</td>\n",
       "      <td>NaN</td>\n",
       "      <td>NaN</td>\n",
       "    </tr>\n",
       "    <tr>\n",
       "      <th>...</th>\n",
       "      <td>...</td>\n",
       "      <td>...</td>\n",
       "      <td>...</td>\n",
       "      <td>...</td>\n",
       "    </tr>\n",
       "    <tr>\n",
       "      <th>317296</th>\n",
       "      <td>Mercedes Benz</td>\n",
       "      <td>Dòng khác</td>\n",
       "      <td>Van</td>\n",
       "      <td>6.0</td>\n",
       "    </tr>\n",
       "    <tr>\n",
       "      <th>317411</th>\n",
       "      <td>Mazda</td>\n",
       "      <td>626</td>\n",
       "      <td>Kiểu dáng khác</td>\n",
       "      <td>5.0</td>\n",
       "    </tr>\n",
       "    <tr>\n",
       "      <th>317450</th>\n",
       "      <td>Isuzu</td>\n",
       "      <td>QKR</td>\n",
       "      <td>Kiểu dáng khác</td>\n",
       "      <td>NaN</td>\n",
       "    </tr>\n",
       "    <tr>\n",
       "      <th>317550</th>\n",
       "      <td>Baic</td>\n",
       "      <td>S3</td>\n",
       "      <td>NaN</td>\n",
       "      <td>NaN</td>\n",
       "    </tr>\n",
       "    <tr>\n",
       "      <th>317587</th>\n",
       "      <td>SYM</td>\n",
       "      <td>Dòng khác</td>\n",
       "      <td>Coupe (2 cửa)</td>\n",
       "      <td>4.0</td>\n",
       "    </tr>\n",
       "  </tbody>\n",
       "</table>\n",
       "<p>2601 rows × 4 columns</p>\n",
       "</div>"
      ],
      "text/plain": [
       "                brand      model              type  seats\n",
       "0                Jeep         A2  SUV / Cross over    4.0\n",
       "1               Honda       City             Sedan    5.0\n",
       "2                 Kia        Rio               NaN    NaN\n",
       "3              Toyota       Vios             Sedan    5.0\n",
       "4                Fiat      Siena               NaN    NaN\n",
       "...               ...        ...               ...    ...\n",
       "317296  Mercedes Benz  Dòng khác               Van    6.0\n",
       "317411          Mazda        626    Kiểu dáng khác    5.0\n",
       "317450          Isuzu        QKR    Kiểu dáng khác    NaN\n",
       "317550           Baic         S3               NaN    NaN\n",
       "317587            SYM  Dòng khác     Coupe (2 cửa)    4.0\n",
       "\n",
       "[2601 rows x 4 columns]"
      ]
     },
     "execution_count": 5,
     "metadata": {},
     "output_type": "execute_result"
    }
   ],
   "source": [
    "type_of_car = car_data[['brand', 'model', 'type', 'seats']]\n",
    "type_of_car.drop_duplicates()"
   ]
  },
  {
   "cell_type": "code",
   "execution_count": 9,
   "metadata": {},
   "outputs": [
    {
     "data": {
      "text/plain": [
       "brand  model  type       seats\n",
       "Kia    Rio    Sedan      5.0      503\n",
       "              Hatchback  5.0      373\n",
       "              Sedan      4.0       15\n",
       "dtype: int64"
      ]
     },
     "execution_count": 9,
     "metadata": {},
     "output_type": "execute_result"
    }
   ],
   "source": [
    "type_of_car[(type_of_car['brand'] == 'Kia') & (type_of_car['model'] == 'Rio')].value_counts()"
   ]
  },
  {
   "cell_type": "code",
   "execution_count": 10,
   "metadata": {},
   "outputs": [
    {
     "data": {
      "text/plain": [
       "brand   model  type              seats\n",
       "Toyota  Vios   Sedan             5.0      9438\n",
       "                                 2.0       171\n",
       "                                 4.0        32\n",
       "               Kiểu dáng khác    5.0        18\n",
       "               SUV / Cross over  5.0        11\n",
       "               Minivan (MPV)     5.0         6\n",
       "               Sedan             8.0         6\n",
       "               Kiểu dáng khác    4.0         5\n",
       "               Minivan (MPV)     8.0         3\n",
       "dtype: int64"
      ]
     },
     "execution_count": 10,
     "metadata": {},
     "output_type": "execute_result"
    }
   ],
   "source": [
    "type_of_car[(type_of_car['brand'] == 'Toyota') & (type_of_car['model'] == 'Vios')].value_counts()"
   ]
  },
  {
   "cell_type": "code",
   "execution_count": 11,
   "metadata": {},
   "outputs": [
    {
     "data": {
      "text/plain": [
       "brand   model      type               seats\n",
       "Ford    Ranger     Pick-up (bán tải)   5.0     13396\n",
       "Toyota  Innova     Minivan (MPV)       8.0     10121\n",
       "        Vios       Sedan               5.0      9438\n",
       "        Fortuner   SUV / Cross over    7.0      7555\n",
       "Kia     Morning    Hatchback           5.0      6493\n",
       "                                               ...  \n",
       "Toyota  Sequoia    SUV / Cross over    7.0         1\n",
       "Daewoo  Lanos      Kiểu dáng khác      4.0         1\n",
       "Kia     Dòng khác  Mui trần           -1.0         1\n",
       "Mazda   5          Hatchback           5.0         1\n",
       "Proton  Dòng khác  Kiểu dáng khác      7.0         1\n",
       "Length: 1632, dtype: int64"
      ]
     },
     "execution_count": 11,
     "metadata": {},
     "output_type": "execute_result"
    }
   ],
   "source": [
    "type_of_car.value_counts()"
   ]
  },
  {
   "cell_type": "code",
   "execution_count": 37,
   "metadata": {},
   "outputs": [
    {
     "name": "stderr",
     "output_type": "stream",
     "text": [
      "/tmp/ipykernel_24339/605390074.py:1: FutureWarning: The default value of numeric_only in DataFrame.corr is deprecated. In a future version, it will default to False. Select only valid columns or specify the value of numeric_only to silence this warning.\n",
      "  car_data.corr()\n"
     ]
    },
    {
     "data": {
      "text/html": [
       "<div>\n",
       "<style scoped>\n",
       "    .dataframe tbody tr th:only-of-type {\n",
       "        vertical-align: middle;\n",
       "    }\n",
       "\n",
       "    .dataframe tbody tr th {\n",
       "        vertical-align: top;\n",
       "    }\n",
       "\n",
       "    .dataframe thead th {\n",
       "        text-align: right;\n",
       "    }\n",
       "</style>\n",
       "<table border=\"1\" class=\"dataframe\">\n",
       "  <thead>\n",
       "    <tr style=\"text-align: right;\">\n",
       "      <th></th>\n",
       "      <th>id</th>\n",
       "      <th>list_id</th>\n",
       "      <th>list_time</th>\n",
       "      <th>manufacture_date</th>\n",
       "      <th>seats</th>\n",
       "      <th>mileage_v2</th>\n",
       "      <th>price</th>\n",
       "    </tr>\n",
       "  </thead>\n",
       "  <tbody>\n",
       "    <tr>\n",
       "      <th>id</th>\n",
       "      <td>1.000000</td>\n",
       "      <td>0.999610</td>\n",
       "      <td>0.039079</td>\n",
       "      <td>0.005451</td>\n",
       "      <td>-0.006120</td>\n",
       "      <td>0.079603</td>\n",
       "      <td>-0.078986</td>\n",
       "    </tr>\n",
       "    <tr>\n",
       "      <th>list_id</th>\n",
       "      <td>0.999610</td>\n",
       "      <td>1.000000</td>\n",
       "      <td>0.042036</td>\n",
       "      <td>0.005751</td>\n",
       "      <td>-0.006327</td>\n",
       "      <td>0.080387</td>\n",
       "      <td>-0.080001</td>\n",
       "    </tr>\n",
       "    <tr>\n",
       "      <th>list_time</th>\n",
       "      <td>0.039079</td>\n",
       "      <td>0.042036</td>\n",
       "      <td>1.000000</td>\n",
       "      <td>-0.007663</td>\n",
       "      <td>0.021003</td>\n",
       "      <td>-0.002080</td>\n",
       "      <td>-0.009161</td>\n",
       "    </tr>\n",
       "    <tr>\n",
       "      <th>manufacture_date</th>\n",
       "      <td>0.005451</td>\n",
       "      <td>0.005751</td>\n",
       "      <td>-0.007663</td>\n",
       "      <td>1.000000</td>\n",
       "      <td>-0.003088</td>\n",
       "      <td>-0.097890</td>\n",
       "      <td>0.075105</td>\n",
       "    </tr>\n",
       "    <tr>\n",
       "      <th>seats</th>\n",
       "      <td>-0.006120</td>\n",
       "      <td>-0.006327</td>\n",
       "      <td>0.021003</td>\n",
       "      <td>-0.003088</td>\n",
       "      <td>1.000000</td>\n",
       "      <td>0.043511</td>\n",
       "      <td>0.017746</td>\n",
       "    </tr>\n",
       "    <tr>\n",
       "      <th>mileage_v2</th>\n",
       "      <td>0.079603</td>\n",
       "      <td>0.080387</td>\n",
       "      <td>-0.002080</td>\n",
       "      <td>-0.097890</td>\n",
       "      <td>0.043511</td>\n",
       "      <td>1.000000</td>\n",
       "      <td>-0.164979</td>\n",
       "    </tr>\n",
       "    <tr>\n",
       "      <th>price</th>\n",
       "      <td>-0.078986</td>\n",
       "      <td>-0.080001</td>\n",
       "      <td>-0.009161</td>\n",
       "      <td>0.075105</td>\n",
       "      <td>0.017746</td>\n",
       "      <td>-0.164979</td>\n",
       "      <td>1.000000</td>\n",
       "    </tr>\n",
       "  </tbody>\n",
       "</table>\n",
       "</div>"
      ],
      "text/plain": [
       "                        id   list_id  list_time  manufacture_date     seats  \\\n",
       "id                1.000000  0.999610   0.039079          0.005451 -0.006120   \n",
       "list_id           0.999610  1.000000   0.042036          0.005751 -0.006327   \n",
       "list_time         0.039079  0.042036   1.000000         -0.007663  0.021003   \n",
       "manufacture_date  0.005451  0.005751  -0.007663          1.000000 -0.003088   \n",
       "seats            -0.006120 -0.006327   0.021003         -0.003088  1.000000   \n",
       "mileage_v2        0.079603  0.080387  -0.002080         -0.097890  0.043511   \n",
       "price            -0.078986 -0.080001  -0.009161          0.075105  0.017746   \n",
       "\n",
       "                  mileage_v2     price  \n",
       "id                  0.079603 -0.078986  \n",
       "list_id             0.080387 -0.080001  \n",
       "list_time          -0.002080 -0.009161  \n",
       "manufacture_date   -0.097890  0.075105  \n",
       "seats               0.043511  0.017746  \n",
       "mileage_v2          1.000000 -0.164979  \n",
       "price              -0.164979  1.000000  "
      ]
     },
     "execution_count": 37,
     "metadata": {},
     "output_type": "execute_result"
    }
   ],
   "source": [
    "car_data.corr()"
   ]
  },
  {
   "cell_type": "code",
   "execution_count": 23,
   "metadata": {},
   "outputs": [
    {
     "data": {
      "text/plain": [
       "count    315514.000000\n",
       "mean        626.421677\n",
       "std         727.362936\n",
       "min           1.310720\n",
       "25%         315.000000\n",
       "50%         490.000000\n",
       "75%         710.000000\n",
       "max       37500.000000\n",
       "Name: price, dtype: float64"
      ]
     },
     "execution_count": 23,
     "metadata": {},
     "output_type": "execute_result"
    }
   ],
   "source": [
    "processed_data = pd.read_csv('new_car.csv')\n",
    "processed_data['price'].describe()"
   ]
  },
  {
   "cell_type": "code",
   "execution_count": 29,
   "metadata": {},
   "outputs": [
    {
     "data": {
      "text/plain": [
       "(0.0, 5000.0)"
      ]
     },
     "execution_count": 29,
     "metadata": {},
     "output_type": "execute_result"
    },
    {
     "data": {
      "image/png": "[encoded data removed]",
      "text/plain": [
       "<Figure size 1500x800 with 1 Axes>"
      ]
     },
     "metadata": {},
     "output_type": "display_data"
    }
   ],
   "source": [
    "f, ax = plt.subplots(figsize=(15,8))\n",
    "sns.histplot(processed_data['price'])\n",
    "plt.xlim([0,5000])"
   ]
  },
  {
   "cell_type": "code",
   "execution_count": 47,
   "metadata": {},
   "outputs": [
    {
     "data": {
      "text/plain": [
       "(-0.5, 3.5, 0.0, 5000.0)"
      ]
     },
     "execution_count": 47,
     "metadata": {},
     "output_type": "execute_result"
    },
    {
     "data": {
      "image/png": "[encoded data removed]",
      "text/plain": [
       "<Figure size 1200x800 with 1 Axes>"
      ]
     },
     "metadata": {},
     "output_type": "display_data"
    }
   ],
   "source": [
    "data = pd.concat([car_data['price'] / 1e6, car_data['fuel']], axis=1)\n",
    "f, ax = plt.subplots(figsize=(12, 8))\n",
    "fig = sns.boxplot(x='fuel', y=\"price\", data=data)\n",
    "fig.axis(ymin=0, ymax=5000)"
   ]
  },
  {
   "cell_type": "code",
   "execution_count": 48,
   "metadata": {},
   "outputs": [
    {
     "data": {
      "image/png": "[encoded data removed]",
      "text/plain": [
       "<Figure size 1200x600 with 1 Axes>"
      ]
     },
     "metadata": {},
     "output_type": "display_data"
    },
    {
     "data": {
      "text/plain": [
       "Việt Nam      116368\n",
       "Thái Lan       36541\n",
       "Nước khác      20481\n",
       "Nhật Bản       18568\n",
       "Hàn Quốc       18272\n",
       "Đức            10198\n",
       "Mỹ              9373\n",
       "Ấn Độ           2762\n",
       "Trung Quốc       982\n",
       "Đài Loan         772\n",
       "Name: origin, dtype: int64"
      ]
     },
     "execution_count": 48,
     "metadata": {},
     "output_type": "execute_result"
    }
   ],
   "source": [
    "plt.figure(figsize=(12, 6))\n",
    "sns.boxplot(x='origin', y='price', data=car_data)\n",
    "plt.title('Box Plot of Price vs. Categorical Feature')\n",
    "plt.xlabel('Categorical Feature')\n",
    "plt.ylabel('Price')\n",
    "plt.show()\n",
    "car_data['origin'].value_counts()"
   ]
  },
  {
   "cell_type": "code",
   "execution_count": 49,
   "metadata": {},
   "outputs": [
    {
     "data": {
      "image/png": "[encoded data removed]",
      "text/plain": [
       "<Figure size 1200x600 with 1 Axes>"
      ]
     },
     "metadata": {},
     "output_type": "display_data"
    },
    {
     "data": {
      "text/plain": [
       "white     72035\n",
       "black     37946\n",
       "red       27216\n",
       "silver    26355\n",
       "grey      12537\n",
       "blue      12404\n",
       "gold       9371\n",
       "others     8556\n",
       "brown      6986\n",
       "orange     4278\n",
       "green      2922\n",
       "pink        934\n",
       "Name: color, dtype: int64"
      ]
     },
     "execution_count": 49,
     "metadata": {},
     "output_type": "execute_result"
    }
   ],
   "source": [
    "plt.figure(figsize=(12, 6))\n",
    "sns.boxplot(x='color', y='price', data=car_data)\n",
    "plt.title('Box Plot of Price vs. Categorical Feature')\n",
    "plt.xlabel('Categorical Feature')\n",
    "plt.ylabel('Price')\n",
    "plt.show()\n",
    "car_data['color'].value_counts()"
   ]
  },
  {
   "cell_type": "code",
   "execution_count": null,
   "metadata": {},
   "outputs": [],
   "source": []
  },
  {
   "cell_type": "code",
   "execution_count": null,
   "metadata": {},
   "outputs": [],
   "source": []
  }
 ],
 "metadata": {
  "kernelspec": {
   "display_name": "base",
   "language": "python",
   "name": "python3"
  },
  "language_info": {
   "codemirror_mode": {
    "name": "ipython",
    "version": 3
   },
   "file_extension": ".py",
   "mimetype": "text/x-python",
   "name": "python",
   "nbconvert_exporter": "python",
   "pygments_lexer": "ipython3",
   "version": "3.10.10"
  }
 },
 "nbformat": 4,
 "nbformat_minor": 2
}
